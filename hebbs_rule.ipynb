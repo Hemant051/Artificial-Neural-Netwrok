{
  "nbformat": 4,
  "nbformat_minor": 0,
  "metadata": {
    "kernelspec": {
      "display_name": "Python 3",
      "language": "python",
      "name": "python3"
    },
    "language_info": {
      "codemirror_mode": {
        "name": "ipython",
        "version": 3
      },
      "file_extension": ".py",
      "mimetype": "text/x-python",
      "name": "python",
      "nbconvert_exporter": "python",
      "pygments_lexer": "ipython3",
      "version": "3.7.3"
    },
    "colab": {
      "name": " hebbs rule ANN LAB EXP 10.ipynb",
      "provenance": [],
      "collapsed_sections": [],
      "include_colab_link": true
    }
  },
  "cells": [
    {
      "cell_type": "markdown",
      "metadata": {
        "id": "view-in-github",
        "colab_type": "text"
      },
      "source": [
        "<a href=\"https://colab.research.google.com/github/Hemant051/Artificial-Neural-Netwrok/blob/main/hebbs_rule.ipynb\" target=\"_parent\"><img src=\"https://colab.research.google.com/assets/colab-badge.svg\" alt=\"Open In Colab\"/></a>"
      ]
    },
    {
      "cell_type": "code",
      "metadata": {
        "id": "Ikqv_luByr9s"
      },
      "source": [
        "E=[1,1,1,1,1,-1,-1,-1,1,1,1,1,1,-1,-1,-1,1,1,1,1]"
      ],
      "execution_count": null,
      "outputs": []
    },
    {
      "cell_type": "code",
      "metadata": {
        "id": "VL_1gAjVyr9y"
      },
      "source": [
        "f=[1,1,1,1,1,-1,-1,-1,1,1,1,1,1,-1,-1,-1,1,-1,-1,-1]\n"
      ],
      "execution_count": null,
      "outputs": []
    },
    {
      "cell_type": "code",
      "metadata": {
        "id": "rpg0kNnWyr90"
      },
      "source": [
        "w=[0,0,0,0,0,0,0,0,0,0,0,0,0,0,0,0,0,0,0,0]"
      ],
      "execution_count": null,
      "outputs": []
    },
    {
      "cell_type": "code",
      "metadata": {
        "id": "EHSeJ6qQyr91"
      },
      "source": [
        "t=[1,-1]"
      ],
      "execution_count": null,
      "outputs": []
    },
    {
      "cell_type": "code",
      "metadata": {
        "id": "akq5-YEUyr91"
      },
      "source": [
        "\n",
        "b=0"
      ],
      "execution_count": null,
      "outputs": []
    },
    {
      "cell_type": "code",
      "metadata": {
        "id": "LLHHblYzyr92"
      },
      "source": [
        "\n",
        "alpha=0.1"
      ],
      "execution_count": null,
      "outputs": []
    },
    {
      "cell_type": "code",
      "metadata": {
        "id": "J9iK8-a8yr93"
      },
      "source": [
        "we=[]\n",
        "for i in range(0,20):\n",
        "    d=w[i]+E[i]*t[0]+f[i]*t[1]\n",
        "    b=b+t[0]+t[1]\n",
        "    we.append(d)"
      ],
      "execution_count": null,
      "outputs": []
    },
    {
      "cell_type": "code",
      "metadata": {
        "colab": {
          "base_uri": "https://localhost:8080/"
        },
        "id": "Vlzgqh8iyr94",
        "outputId": "c5bd7b1c-7404-4362-8761-25f397d9d892"
      },
      "source": [
        "\n",
        "we"
      ],
      "execution_count": null,
      "outputs": [
        {
          "output_type": "execute_result",
          "data": {
            "text/plain": [
              "[0, 0, 0, 0, 0, 0, 0, 0, 0, 0, 0, 0, 0, 0, 0, 0, 0, 2, 2, 2]"
            ]
          },
          "metadata": {},
          "execution_count": 8
        }
      ]
    },
    {
      "cell_type": "code",
      "metadata": {
        "id": "mcaoQEAByr97"
      },
      "source": [
        "e=np.array(E)"
      ],
      "execution_count": null,
      "outputs": []
    },
    {
      "cell_type": "code",
      "metadata": {
        "id": "iikGWPmQyr99"
      },
      "source": [
        "w=np.array(we)"
      ],
      "execution_count": null,
      "outputs": []
    },
    {
      "cell_type": "code",
      "metadata": {
        "id": "YfBX5GTKyr9_"
      },
      "source": [
        "ff=np.array(f)"
      ],
      "execution_count": null,
      "outputs": []
    },
    {
      "cell_type": "code",
      "metadata": {
        "id": "XrR-ZW3Jyr9_"
      },
      "source": [
        "import numpy as np\n",
        "ypre=np.dot(w,e.T)\n",
        "if ypre>=0:\n",
        "    pred=1\n",
        "else:\n",
        "    pred=-1"
      ],
      "execution_count": null,
      "outputs": []
    },
    {
      "cell_type": "code",
      "metadata": {
        "colab": {
          "base_uri": "https://localhost:8080/"
        },
        "id": "iQkNuP8uyr-A",
        "outputId": "00f90a3e-5538-4d3a-f0e8-adf67a6da081"
      },
      "source": [
        "print(pred)"
      ],
      "execution_count": null,
      "outputs": [
        {
          "output_type": "stream",
          "name": "stdout",
          "text": [
            "1\n"
          ]
        }
      ]
    },
    {
      "cell_type": "code",
      "metadata": {
        "id": "ci0jLaVFyr-B"
      },
      "source": [
        "ypre=np.dot(w,ff.T)\n",
        "if ypre>=0:\n",
        "    pred=1\n",
        "else:\n",
        "    pred=-1"
      ],
      "execution_count": null,
      "outputs": []
    },
    {
      "cell_type": "code",
      "metadata": {
        "colab": {
          "base_uri": "https://localhost:8080/"
        },
        "id": "TuFZ7lugyr-D",
        "outputId": "89d08b11-089e-46fc-df86-f7cee5babcbb"
      },
      "source": [
        "print(pred)"
      ],
      "execution_count": null,
      "outputs": [
        {
          "output_type": "stream",
          "name": "stdout",
          "text": [
            "-1\n"
          ]
        }
      ]
    }
  ]
}