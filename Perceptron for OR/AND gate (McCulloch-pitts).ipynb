{
  "nbformat": 4,
  "nbformat_minor": 0,
  "metadata": {
    "colab": {
      "name": "ANN_LAB_Exp2.ipynb",
      "provenance": [],
      "authorship_tag": "ABX9TyOEG1P//ZqNUTI7N6T/cR0H",
      "include_colab_link": true
    },
    "kernelspec": {
      "name": "python3",
      "display_name": "Python 3"
    },
    "language_info": {
      "name": "python"
    }
  },
  "cells": [
    {
      "cell_type": "markdown",
      "metadata": {
        "id": "view-in-github",
        "colab_type": "text"
      },
      "source": [
        "<a href=\"https://colab.research.google.com/github/Hemant051/Artificial-Neural-Netwrok/blob/main/Perceptron%20for%20OR/AND%20gate%20(McCulloch-pitts).ipynb\" target=\"_parent\"><img src=\"https://colab.research.google.com/assets/colab-badge.svg\" alt=\"Open In Colab\"/></a>"
      ]
    },
    {
      "cell_type": "code",
      "metadata": {
        "colab": {
          "base_uri": "https://localhost:8080/"
        },
        "id": "UgGnDLXoD171",
        "outputId": "042ff66c-5dd9-4d1e-f644-883375f8f79a"
      },
      "source": [
        "# OR GATE\n",
        "w1 = 0.01; w2 = 0.02; alpha = 0.1; b = 0\n",
        "x1 = [1,1,-1,-1]\n",
        "x2 = [1,-1,1,-1]\n",
        "t = [1,1,1,-1]\n",
        "y = []\n",
        "while (t != y):\n",
        "  y = []\n",
        "  for i in range(4):\n",
        "    yin = b + x1[i]*w1 + x2[i]*w2\n",
        "    if yin >= 0:\n",
        "      yin = 1\n",
        "    elif yin == 0:\n",
        "      yin = 0\n",
        "    else:\n",
        "      yin = -1\n",
        "    y.append(yin)\n",
        "    w1 = w1 + alpha*t[i]*x1[i]\n",
        "    w2 = w2 + alpha*t[i]*x2[i]\n",
        "    b = b + alpha*t[i]\n",
        "    print(\"b,w1,w2\")\n",
        "    print(b,w1,w2)\n",
        "    print(\"y = \",y)"
      ],
      "execution_count": null,
      "outputs": [
        {
          "output_type": "stream",
          "text": [
            "b,w1,w2\n",
            "0.1 0.11 0.12000000000000001\n",
            "y =  [1]\n",
            "b,w1,w2\n",
            "0.2 0.21000000000000002 0.020000000000000004\n",
            "y =  [1, 1]\n",
            "b,w1,w2\n",
            "0.30000000000000004 0.11000000000000001 0.12000000000000001\n",
            "y =  [1, 1, 1]\n",
            "b,w1,w2\n",
            "0.20000000000000004 0.21000000000000002 0.22000000000000003\n",
            "y =  [1, 1, 1, 1]\n",
            "b,w1,w2\n",
            "0.30000000000000004 0.31000000000000005 0.32000000000000006\n",
            "y =  [1]\n",
            "b,w1,w2\n",
            "0.4 0.41000000000000003 0.22000000000000006\n",
            "y =  [1, 1]\n",
            "b,w1,w2\n",
            "0.5 0.31000000000000005 0.32000000000000006\n",
            "y =  [1, 1, 1]\n",
            "b,w1,w2\n",
            "0.4 0.41000000000000003 0.42000000000000004\n",
            "y =  [1, 1, 1, -1]\n"
          ],
          "name": "stdout"
        }
      ]
    },
    {
      "cell_type": "code",
      "metadata": {
        "colab": {
          "base_uri": "https://localhost:8080/"
        },
        "id": "avqVVovgFofP",
        "outputId": "77e45ec6-db9d-449d-89bd-88f10032225a"
      },
      "source": [
        "# AND GATE\n",
        "w1 = 0.01; w2 = 0.02; alpha = 0.1; b = 0\n",
        "x1 = [1,1,-1,-1]\n",
        "x2 = [1,-1,1,-1]\n",
        "t = [1,-1,-1,-1]\n",
        "y = []\n",
        "while (t != y):\n",
        "  y = []\n",
        "  for i in range(4):\n",
        "    yin = b + x1[i]*w1 + x2[i]*w2\n",
        "    if yin >= 0:\n",
        "      yin = 1\n",
        "    elif yin == 0:\n",
        "      yin = 0\n",
        "    else:\n",
        "      yin = -1\n",
        "    y.append(yin)\n",
        "    w1 = w1 + alpha*t[i]*x1[i]\n",
        "    w2 = w2 + alpha*t[i]*x2[i]\n",
        "    b = b + alpha*t[i]\n",
        "    print(\"b,w1,w2\")\n",
        "    print(b,w1,w2)\n",
        "    print(\"y = \",y)"
      ],
      "execution_count": null,
      "outputs": [
        {
          "output_type": "stream",
          "text": [
            "b,w1,w2\n",
            "0.1 0.11 0.12000000000000001\n",
            "y =  [1]\n",
            "b,w1,w2\n",
            "0.0 0.009999999999999995 0.22000000000000003\n",
            "y =  [1, 1]\n",
            "b,w1,w2\n",
            "-0.1 0.11 0.12000000000000002\n",
            "y =  [1, 1, 1]\n",
            "b,w1,w2\n",
            "-0.2 0.21000000000000002 0.22000000000000003\n",
            "y =  [1, 1, 1, -1]\n",
            "b,w1,w2\n",
            "-0.1 0.31000000000000005 0.32000000000000006\n",
            "y =  [1]\n",
            "b,w1,w2\n",
            "-0.2 0.21000000000000005 0.42000000000000004\n",
            "y =  [1, -1]\n",
            "b,w1,w2\n",
            "-0.30000000000000004 0.31000000000000005 0.32000000000000006\n",
            "y =  [1, -1, 1]\n",
            "b,w1,w2\n",
            "-0.4 0.41000000000000003 0.42000000000000004\n",
            "y =  [1, -1, 1, -1]\n",
            "b,w1,w2\n",
            "-0.30000000000000004 0.51 0.52\n",
            "y =  [1]\n",
            "b,w1,w2\n",
            "-0.4 0.41000000000000003 0.62\n",
            "y =  [1, -1]\n",
            "b,w1,w2\n",
            "-0.5 0.51 0.52\n",
            "y =  [1, -1, -1]\n",
            "b,w1,w2\n",
            "-0.6 0.61 0.62\n",
            "y =  [1, -1, -1, -1]\n"
          ],
          "name": "stdout"
        }
      ]
    },
    {
      "cell_type": "code",
      "metadata": {
        "id": "dKAKOMgZF1CQ"
      },
      "source": [
        "# NOR GATE\n",
        "w1 = 0.01; w2 = 0.02; alpha = 0.1; b = 0\n",
        "x1 = [1,1,-1,-1]\n",
        "x2 = [1,-1,1,-1]\n",
        "t = [1,1,1,-1]\n",
        "y = []\n",
        "while (t != y):\n",
        "  y = []\n",
        "  for i in range(4):\n",
        "    yin = b + x1[i]*w1 + x2[i]*w2\n",
        "    if yin >= 0:\n",
        "      yin = 1\n",
        "    elif yin == 0:\n",
        "      yin = 0\n",
        "    else:\n",
        "      yin = -1\n",
        "    y.append(yin)\n",
        "    w1 = w1 + alpha*t[i]*x1[i]\n",
        "    w2 = w2 + alpha*t[i]*x2[i]\n",
        "    b = b + alpha*t[i]\n",
        "    print(\"b,w1,w2\")\n",
        "    print(b,w1,w2)\n",
        "    print(\"y = \",y)"
      ],
      "execution_count": null,
      "outputs": []
    },
    {
      "cell_type": "code",
      "metadata": {
        "id": "nRRzyQD6F2EJ"
      },
      "source": [
        "# ExOR GATE\n",
        "w1 = 0.01; w2 = 0.02; alpha = 0.1; b = 0\n",
        "c1 = [1,1,-1,-1]\n",
        "x2 = [1,-1,1,-1]\n",
        "t = [1,1,1,-1]\n",
        "y = []\n",
        "while (t != y):\n",
        "  y = []\n",
        "  for i in range(4):\n",
        "    yin = b + x1[i]*w1 + x2[i]*w2\n",
        "    if yin >= 0:\n",
        "      yin = 1\n",
        "    elif yin == 0:\n",
        "      yin = 0\n",
        "    else:\n",
        "      yin = -1\n",
        "    y.append(yin)\n",
        "    w1 = w1 + alpha*t[i]*x1[i]\n",
        "    w2 = w2 + alpha*t[i]*x2[i]\n",
        "    b = b + alpha*t[i]\n",
        "    print(\"b,w1,w2\")\n",
        "    print(b,w1,w2)\n",
        "    print(\"y = \",y)"
      ],
      "execution_count": null,
      "outputs": []
    }
  ]
}