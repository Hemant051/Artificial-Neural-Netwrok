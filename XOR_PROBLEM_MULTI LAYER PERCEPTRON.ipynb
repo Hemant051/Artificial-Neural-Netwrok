{
  "nbformat": 4,
  "nbformat_minor": 0,
  "metadata": {
    "colab": {
      "name": "ANN_LAB_EXP 12.ipynb",
      "provenance": [],
      "collapsed_sections": [],
      "authorship_tag": "ABX9TyPZs4z//JIJogNWBkkGVmR9",
      "include_colab_link": true
    },
    "kernelspec": {
      "name": "python3",
      "display_name": "Python 3"
    },
    "language_info": {
      "name": "python"
    }
  },
  "cells": [
    {
      "cell_type": "markdown",
      "metadata": {
        "id": "view-in-github",
        "colab_type": "text"
      },
      "source": [
        "<a href=\"https://colab.research.google.com/github/Hemant051/Artificial-Neural-Netwrok/blob/main/XOR_PROBLEM_MULTI%20LAYER%20PERCEPTRON.ipynb\" target=\"_parent\"><img src=\"https://colab.research.google.com/assets/colab-badge.svg\" alt=\"Open In Colab\"/></a>"
      ]
    },
    {
      "cell_type": "code",
      "metadata": {
        "id": "1PCkfg1PpHxP"
      },
      "source": [
        "# importing Python library\n",
        "import numpy as np"
      ],
      "execution_count": null,
      "outputs": []
    },
    {
      "cell_type": "code",
      "metadata": {
        "id": "Zd2fzTGjw3Ys"
      },
      "source": [
        "# define Unit Step Function\n",
        "def unitStep(v):\n",
        "\tif v >= 0:\n",
        "\t\treturn 1\n",
        "\telse:\n",
        "\t\treturn 0"
      ],
      "execution_count": null,
      "outputs": []
    },
    {
      "cell_type": "code",
      "metadata": {
        "id": "vvR3aeFHw6nz"
      },
      "source": [
        "# design Perceptron Model\n",
        "def perceptronModel(x, w, b):\n",
        "\tv = np.dot(w, x) + b\n",
        "\ty = unitStep(v)\n",
        "\treturn y"
      ],
      "execution_count": null,
      "outputs": []
    },
    {
      "cell_type": "code",
      "metadata": {
        "id": "lYaNdqItw-Bc"
      },
      "source": [
        "# NOT Logic Function\n",
        "# wNOT = -1, bNOT = 0.5\n",
        "def NOT_logicFunction(x):\n",
        "\twNOT = -1\n",
        "\tbNOT = 0.5\n",
        "\treturn perceptronModel(x, wNOT, bNOT)"
      ],
      "execution_count": null,
      "outputs": []
    },
    {
      "cell_type": "code",
      "metadata": {
        "id": "Hd6IYyDCxBgf"
      },
      "source": [
        "# AND Logic Function\n",
        "# here w1 = wAND1 = 1,\n",
        "# w2 = wAND2 = 1, bAND = -1.5\n",
        "def AND_logicFunction(x):\n",
        "\tw = np.array([1, 1])\n",
        "\tbAND = -1.5\n",
        "\treturn perceptronModel(x, w, bAND)"
      ],
      "execution_count": null,
      "outputs": []
    },
    {
      "cell_type": "code",
      "metadata": {
        "id": "p1uNjbc7xEwT"
      },
      "source": [
        "# OR Logic Function\n",
        "# w1 = 1, w2 = 1, bOR = -0.5\n",
        "def OR_logicFunction(x):\n",
        "\tw = np.array([1, 1])\n",
        "\tbOR = -0.5\n",
        "\treturn perceptronModel(x, w, bOR)\n"
      ],
      "execution_count": null,
      "outputs": []
    },
    {
      "cell_type": "code",
      "metadata": {
        "id": "cnr7lz1MxJJq"
      },
      "source": [
        "# XOR Logic Function\n",
        "# with AND, OR and NOT\n",
        "# function calls in sequence\n",
        "def XOR_logicFunction(x):\n",
        "\ty1 = AND_logicFunction(x)\n",
        "\ty2 = OR_logicFunction(x)\n",
        "\ty3 = NOT_logicFunction(y1)\n",
        "\tfinal_x = np.array([y2, y3])\n",
        "\tfinalOutput = AND_logicFunction(final_x)\n",
        "\treturn finalOutput"
      ],
      "execution_count": null,
      "outputs": []
    },
    {
      "cell_type": "code",
      "metadata": {
        "id": "AzooeWk8xMd9",
        "colab": {
          "base_uri": "https://localhost:8080/"
        },
        "outputId": "b7ac0872-8372-4d4b-bb17-81b5728df66b"
      },
      "source": [
        "# testing the Perceptron Model\n",
        "test1 = np.array([0, 1])\n",
        "test2 = np.array([1, 1])\n",
        "test3 = np.array([0, 0])\n",
        "test4 = np.array([1, 0])\n",
        "\n",
        "print(\"XOR({}, {}) = {}\".format(0, 1, XOR_logicFunction(test1)))\n",
        "print(\"XOR({}, {}) = {}\".format(1, 1, XOR_logicFunction(test2)))\n",
        "print(\"XOR({}, {}) = {}\".format(0, 0, XOR_logicFunction(test3)))\n",
        "print(\"XOR({}, {}) = {}\".format(1, 0, XOR_logicFunction(test4)))"
      ],
      "execution_count": null,
      "outputs": [
        {
          "output_type": "stream",
          "name": "stdout",
          "text": [
            "XOR(0, 1) = 1\n",
            "XOR(1, 1) = 0\n",
            "XOR(0, 0) = 0\n",
            "XOR(1, 0) = 1\n"
          ]
        }
      ]
    },
    {
      "cell_type": "code",
      "metadata": {
        "id": "lRnRB4SONHNK"
      },
      "source": [
        ""
      ],
      "execution_count": null,
      "outputs": []
    }
  ]
}