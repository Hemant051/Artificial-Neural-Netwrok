{
  "nbformat": 4,
  "nbformat_minor": 0,
  "metadata": {
    "colab": {
      "name": "ANN_LAB_EXP1.ipynb",
      "provenance": [],
      "collapsed_sections": [],
      "authorship_tag": "ABX9TyPhlODax+GMrOzo+kmHiz8z",
      "include_colab_link": true
    },
    "kernelspec": {
      "name": "python3",
      "display_name": "Python 3"
    },
    "language_info": {
      "name": "python"
    }
  },
  "cells": [
    {
      "cell_type": "markdown",
      "metadata": {
        "id": "view-in-github",
        "colab_type": "text"
      },
      "source": [
        "<a href=\"https://colab.research.google.com/github/Hemant051/Artificial-Neural-Netwrok/blob/main/Designing%20and%20Training%20a%20perceptron%20for%20identifying%20ODD%20and%20EVEN.ipynb\" target=\"_parent\"><img src=\"https://colab.research.google.com/assets/colab-badge.svg\" alt=\"Open In Colab\"/></a>"
      ]
    },
    {
      "cell_type": "code",
      "metadata": {
        "colab": {
          "base_uri": "https://localhost:8080/"
        },
        "id": "hyxeoOZ80GM9",
        "outputId": "98236968-f921-4503-8883-5f286ce2b45a"
      },
      "source": [
        "alpha=1 ;b=0 ;w1=0 ;w2=0; w3=0; w4=0;\n",
        "x1= [-1,-1,-1,-1,-1,-1,-1,-1,1,1];\n",
        "x2= [-1,-1,-1,-1,1,1,1,1,-1,-1];\n",
        "x3= [-1,-1,1,1,-1,-1,1,1,-1,-1];\n",
        "x4= [-1,1,-1,-1,-1,1,-1,1,-1,1];\n",
        "t= [-1,1,-1,1,-1,1,-1,1,-1,1];\n",
        " \n",
        "i=0;\n",
        " \n",
        "x= int(input(\"Enter the number\"));\n",
        " \n",
        "yin= b+x1[0]*w1+x2[0]*w2+x3[0]*w3+x4[0]*w4;\n",
        "if yin>0:\n",
        "  yin=1\n",
        " \n",
        "elif yin==0:\n",
        "  yin=0\n",
        " \n",
        "else:\n",
        "  yin=-1\n",
        " \n",
        " \n",
        "while(yin!=t[i]):\n",
        " \n",
        "  b=b+alpha*t[i];\n",
        "  w1=w1+alpha*x1[i]*t[i];\n",
        "  w2=w2+alpha*x2[i]*t[i];\n",
        "  w3=w3+alpha*x3[i]*t[i];\n",
        "  w4=w4+alpha*x4[i]*t[i];\n",
        " \n",
        "  i=i+1\n",
        " \n",
        "  yin= b+x1[0]*w1+x2[0]*w2+x3[0]*w3+x4[0]*w4;\n",
        " \n",
        "  if yin>0:\n",
        "    yin=1\n",
        "    \n",
        "  elif yin == 0:\n",
        "    yin=0\n",
        " \n",
        "  else:\n",
        "    yin=-1\n",
        " \n",
        " \n",
        "print(\"value of yin and t is\", yin, t[i]);\n",
        " \n",
        "if yin!=t[i]:\n",
        " \n",
        "  print(\"perceptron can learn\")\n",
        "else:\n",
        "    y=x%10;\n",
        "    k=0;\n",
        "    \n",
        "if y==0:\n",
        "        bin=[0,0,0,0];\n",
        "else:\n",
        "        bin=[0,0,0,0];\n",
        "while y!=0:\n",
        "            bin[k]=y%2;\n",
        "            y=int(y/2);\n",
        "            k=k+1;\n",
        "net=b+bin[3]*w1+bin[2]*w2+bin[1]*w3+bin[0]*w4;\n",
        "print(\"net value\", net);\n",
        "if net >0:\n",
        "        print(\"No.is odd\");\n",
        "else:\n",
        "        print(\"No.is Even\");"
      ],
      "execution_count": null,
      "outputs": [
        {
          "output_type": "stream",
          "text": [
            "Enter the number90909\n",
            "value of yin and t is -1 -1\n",
            "net value 2\n",
            "No.is odd\n"
          ],
          "name": "stdout"
        }
      ]
    }
  ]
}