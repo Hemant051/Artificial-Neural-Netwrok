{
  "nbformat": 4,
  "nbformat_minor": 0,
  "metadata": {
    "colab": {
      "name": "ANN_LAB_EXP 3.ipynb",
      "provenance": [],
      "collapsed_sections": [],
      "authorship_tag": "ABX9TyMvuEocfPCmFRSneTZlvRjZ",
      "include_colab_link": true
    },
    "kernelspec": {
      "name": "python3",
      "display_name": "Python 3"
    },
    "language_info": {
      "name": "python"
    }
  },
  "cells": [
    {
      "cell_type": "markdown",
      "metadata": {
        "id": "view-in-github",
        "colab_type": "text"
      },
      "source": [
        "<a href=\"https://colab.research.google.com/github/Hemant051/Artificial-Neural-Netwrok/blob/main/Bidirectional%20Assosiative%20Memory(BAM).ipynb\" target=\"_parent\"><img src=\"https://colab.research.google.com/assets/colab-badge.svg\" alt=\"Open In Colab\"/></a>"
      ]
    },
    {
      "cell_type": "code",
      "metadata": {
        "id": "qNu2c1IKItaL"
      },
      "source": [
        "import numpy as np "
      ],
      "execution_count": null,
      "outputs": []
    },
    {
      "cell_type": "code",
      "metadata": {
        "colab": {
          "base_uri": "https://localhost:8080/",
          "height": 90
        },
        "id": "B0pn5CeiI-0-",
        "outputId": "55370bb9-add4-40c6-e816-60c69565a206"
      },
      "source": [
        "# Take two sets of patterns: \n",
        "# Set A: Input Pattern \n",
        "x1 = np.array([1, 1, 1, 1, 1, 1]).reshape(6, 1) \n",
        "x2 = np.array([-1, -1, -1, -1, -1, -1]).reshape(6, 1) \n",
        "x3 = np.array([1, 1, -1, -1, 1, 1]).reshape(6, 1) \n",
        "x4 = np.array([-1, -1, 1, 1, -1, -1]).reshape(6, 1) \n",
        "  \n",
        "# Set B: Target Pattern \n",
        "y1 = np.array([1, 1, 1]).reshape(3, 1) \n",
        "y2 = np.array([-1, -1, -1]).reshape(3, 1) \n",
        "y3 = np.array([1, -1, 1]).reshape(3, 1) \n",
        "y4 = np.array([-1, 1, -1]).reshape(3, 1) \n",
        "  \n",
        "''' \n",
        "print(\"Set A: Input Pattern, Set B: Target Pattern\") \n",
        "print(\"\\nThe input for pattern 1 is\") \n",
        "print(x1) \n",
        "print(\"\\nThe target for pattern 1 is\") \n",
        "print(y1) \n",
        "print(\"\\nThe input for pattern 2 is\") \n",
        "print(x2) \n",
        "print(\"\\nThe target for pattern 2 is\") \n",
        "print(y2) \n",
        "print(\"\\nThe input for pattern 3 is\") \n",
        "print(x3) \n",
        "print(\"\\nThe target for pattern 3 is\") \n",
        "print(y3) \n",
        "print(\"\\nThe input for pattern 4 is\") \n",
        "print(x4) \n",
        "print(\"\\nThe target for pattern 4 is\") \n",
        "print(y4) \n",
        "  \n",
        "print(\"\\n------------------------------\") \n",
        "'''"
      ],
      "execution_count": null,
      "outputs": [
        {
          "output_type": "execute_result",
          "data": {
            "application/vnd.google.colaboratory.intrinsic+json": {
              "type": "string"
            },
            "text/plain": [
              "' \\nprint(\"Set A: Input Pattern, Set B: Target Pattern\") \\nprint(\"\\nThe input for pattern 1 is\") \\nprint(x1) \\nprint(\"\\nThe target for pattern 1 is\") \\nprint(y1) \\nprint(\"\\nThe input for pattern 2 is\") \\nprint(x2) \\nprint(\"\\nThe target for pattern 2 is\") \\nprint(y2) \\nprint(\"\\nThe input for pattern 3 is\") \\nprint(x3) \\nprint(\"\\nThe target for pattern 3 is\") \\nprint(y3) \\nprint(\"\\nThe input for pattern 4 is\") \\nprint(x4) \\nprint(\"\\nThe target for pattern 4 is\") \\nprint(y4) \\n  \\nprint(\"\\n------------------------------\") \\n'"
            ]
          },
          "metadata": {},
          "execution_count": 2
        }
      ]
    },
    {
      "cell_type": "code",
      "metadata": {
        "colab": {
          "base_uri": "https://localhost:8080/"
        },
        "id": "-qryf8T7Suku",
        "outputId": "5c4f2f1e-20b7-49a2-837b-f4286f3cab70"
      },
      "source": [
        "# Calculate weight Matrix: W \n",
        "inputSet = np.concatenate((x1, x2, x3, x4), axis = 1) \n",
        "targetSet = np.concatenate((y1.T, y2.T, y3.T, y4.T), axis = 0) \n",
        "print(\"\\nWeight matrix:\") \n",
        "weight = np.dot(inputSet, targetSet) \n",
        "print(inputSet)\n",
        "print(targetSet)\n",
        "print(weight) \n",
        "  \n",
        "print(\"\\n------------------------------\")"
      ],
      "execution_count": null,
      "outputs": [
        {
          "output_type": "stream",
          "text": [
            "\n",
            "Weight matrix:\n",
            "[[ 1 -1  1 -1]\n",
            " [ 1 -1  1 -1]\n",
            " [ 1 -1 -1  1]\n",
            " [ 1 -1 -1  1]\n",
            " [ 1 -1  1 -1]\n",
            " [ 1 -1  1 -1]]\n",
            "[[ 1  1  1]\n",
            " [-1 -1 -1]\n",
            " [ 1 -1  1]\n",
            " [-1  1 -1]]\n",
            "[[4 0 4]\n",
            " [4 0 4]\n",
            " [0 4 0]\n",
            " [0 4 0]\n",
            " [4 0 4]\n",
            " [4 0 4]]\n",
            "\n",
            "------------------------------\n"
          ],
          "name": "stdout"
        }
      ]
    },
    {
      "cell_type": "code",
      "metadata": {
        "colab": {
          "base_uri": "https://localhost:8080/"
        },
        "id": "G0EbYWeUSyRl",
        "outputId": "6a4eb4f6-2cd2-4928-dba2-9da3c1988402"
      },
      "source": [
        "# Testing Phase \n",
        "# Test for Input Patterns: Set A \n",
        "print(\"\\nTesting for input patterns: Set A\") \n",
        "def testInputs(x, weight): \n",
        "  # Multiply the input pattern with the weight matrix \n",
        "  # (weight.T X x) \n",
        "  y = np.dot(weight.T, x) \n",
        "  y[y < 0] = -1\n",
        "  y[y >= 0] = 1\n",
        "  return np.array(y) \n",
        "  \n",
        "print(\"\\nOutput of input pattern 1\")  \n",
        "print(testInputs(x1, weight)) \n",
        "print(\"\\nOutput of input pattern 2\") \n",
        "print(testInputs(x2, weight)) \n",
        "print(\"\\nOutput of input pattern 3\") \n",
        "print(testInputs(x3, weight)) \n",
        "print(\"\\nOutput of input pattern 4\") \n",
        "print(testInputs(x4, weight))"
      ],
      "execution_count": null,
      "outputs": [
        {
          "output_type": "stream",
          "text": [
            "\n",
            "Testing for input patterns: Set A\n",
            "\n",
            "Output of input pattern 1\n",
            "[[1]\n",
            " [1]\n",
            " [1]]\n",
            "\n",
            "Output of input pattern 2\n",
            "[[-1]\n",
            " [-1]\n",
            " [-1]]\n",
            "\n",
            "Output of input pattern 3\n",
            "[[ 1]\n",
            " [-1]\n",
            " [ 1]]\n",
            "\n",
            "Output of input pattern 4\n",
            "[[-1]\n",
            " [ 1]\n",
            " [-1]]\n"
          ],
          "name": "stdout"
        }
      ]
    },
    {
      "cell_type": "code",
      "metadata": {
        "colab": {
          "base_uri": "https://localhost:8080/"
        },
        "id": "b_ATEEtAS4Gj",
        "outputId": "c2e380e5-fafa-46e5-89ff-f7cb308e51a5"
      },
      "source": [
        "# Test for Target Patterns: Set B \n",
        "print(\"\\nTesting for target patterns: Set B\") \n",
        "def testTargets(y, weight): \n",
        "  # Multiply the target pattern with the weight matrix \n",
        "  # (weight X y) \n",
        "  x = np.dot(weight, y) \n",
        "  x[x <= 0] = -1\n",
        "  x[x > 0] = 1\n",
        "  return np.array(x) \n",
        "  \n",
        "print(\"\\nOutput of target pattern 1\") \n",
        "print(testTargets(y1, weight)) \n",
        "print(\"\\nOutput of target pattern 2\") \n",
        "print(testTargets(y2, weight)) \n",
        "print(\"\\nOutput of target pattern 3\") \n",
        "print(testTargets(y3, weight)) \n",
        "print(\"\\nOutput of target pattern 4\") \n",
        "print(testTargets(y4, weight))"
      ],
      "execution_count": null,
      "outputs": [
        {
          "output_type": "stream",
          "text": [
            "\n",
            "Testing for target patterns: Set B\n",
            "\n",
            "Output of target pattern 1\n",
            "[[1]\n",
            " [1]\n",
            " [1]\n",
            " [1]\n",
            " [1]\n",
            " [1]]\n",
            "\n",
            "Output of target pattern 2\n",
            "[[-1]\n",
            " [-1]\n",
            " [-1]\n",
            " [-1]\n",
            " [-1]\n",
            " [-1]]\n",
            "\n",
            "Output of target pattern 3\n",
            "[[ 1]\n",
            " [ 1]\n",
            " [-1]\n",
            " [-1]\n",
            " [ 1]\n",
            " [ 1]]\n",
            "\n",
            "Output of target pattern 4\n",
            "[[-1]\n",
            " [-1]\n",
            " [ 1]\n",
            " [ 1]\n",
            " [-1]\n",
            " [-1]]\n"
          ],
          "name": "stdout"
        }
      ]
    },
    {
      "cell_type": "code",
      "metadata": {
        "id": "I6FW4y32S9lb"
      },
      "source": [
        ""
      ],
      "execution_count": null,
      "outputs": []
    }
  ]
}