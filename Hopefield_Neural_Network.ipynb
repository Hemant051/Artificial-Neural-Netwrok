{
  "nbformat": 4,
  "nbformat_minor": 0,
  "metadata": {
    "colab": {
      "name": "Hopefield Neural Network ANN LAB EXP 4.ipynb",
      "provenance": [],
      "collapsed_sections": [],
      "authorship_tag": "ABX9TyMmsADmt1IFd2T7Da/gt1JF",
      "include_colab_link": true
    },
    "kernelspec": {
      "name": "python3",
      "display_name": "Python 3"
    },
    "language_info": {
      "name": "python"
    }
  },
  "cells": [
    {
      "cell_type": "markdown",
      "metadata": {
        "id": "view-in-github",
        "colab_type": "text"
      },
      "source": [
        "<a href=\"https://colab.research.google.com/github/Hemant051/Artificial-Neural-Netwrok/blob/main/Hopefield_Neural_Network.ipynb\" target=\"_parent\"><img src=\"https://colab.research.google.com/assets/colab-badge.svg\" alt=\"Open In Colab\"/></a>"
      ]
    },
    {
      "cell_type": "code",
      "metadata": {
        "colab": {
          "base_uri": "https://localhost:8080/"
        },
        "id": "eQoaerEy614w",
        "outputId": "b74482c2-94aa-43b3-c40d-5593db224c2e"
      },
      "source": [
        "import numpy as np\n",
        "\n",
        "\n",
        "class Hopfield:\n",
        "    def __init__(self, inp_vector) -> None:\n",
        "        self.theta = 0\n",
        "        self.vector_len = len(inp_vector)\n",
        "        self.inp_vector = self.transform('BIPOLAR', inp_vector)\n",
        "        self.weight = np.zeros([self.vector_len, self.vector_len])\n",
        "\n",
        "    def transform(self, mode, vector):\n",
        "        vector = np.array(vector)\n",
        "        if mode == 'BIPOLAR':\n",
        "            vector[vector == 0] = -1\n",
        "        elif mode == 'BINARY':\n",
        "            vector[vector == -1] = 0\n",
        "        return vector\n",
        "\n",
        "    def activation(self, vector):\n",
        "        vector[vector > self.theta] = 1\n",
        "        vector[vector == self.theta] = self.theta\n",
        "        vector[vector < self.theta] = 0\n",
        "        return vector\n",
        "\n",
        "    def set_weight(self):\n",
        "        first = self.inp_vector.reshape(self.vector_len, 1)\n",
        "        second = self.inp_vector.reshape(1, self.vector_len)\n",
        "        self.weight = np.dot(first, second)\n",
        "\n",
        "    def tune_test(self, vector):\n",
        "        vector = self.transform('BIPOLAR', vector)\n",
        "        tune_vector = vector.copy()\n",
        "        for i in range(self.vector_len):\n",
        "            weight = self.weight[:, i].reshape(self.vector_len, 1)\n",
        "            res = vector[i] + np.dot(tune_vector, weight)\n",
        "            tune_vector[i] = self.activation(res)[0]\n",
        "        return self.activation(np.dot(tune_vector, self.weight))\n",
        "\n",
        "\n",
        "model = Hopfield(inp_vector=[1, 0, 1, 1])\n",
        "model.set_weight()\n",
        "\n",
        "sample = [[0, 1, 1, 1],\n",
        "          [1, 1, 0, 1],\n",
        "          [1, 0, 0, 0],\n",
        "          [0, 0, 1, 0]]\n",
        "\n",
        "for item in sample:\n",
        "    print(model.tune_test(item))"
      ],
      "execution_count": 1,
      "outputs": [
        {
          "output_type": "stream",
          "name": "stdout",
          "text": [
            "[1 0 1 1]\n",
            "[1 0 1 1]\n",
            "[1 0 1 1]\n",
            "[1 0 1 1]\n"
          ]
        }
      ]
    }
  ]
}